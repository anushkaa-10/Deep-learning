{
  "cells": [
    {
      "cell_type": "markdown",
      "metadata": {
        "id": "view-in-github",
        "colab_type": "text"
      },
      "source": [
        "<a href=\"https://colab.research.google.com/github/anushkaa-10/Deep-learning/blob/main/Malaria_Diagnosis-Lessaccuracy.ipynb\" target=\"_parent\"><img src=\"https://colab.research.google.com/assets/colab-badge.svg\" alt=\"Open In Colab\"/></a>"
      ]
    },
    {
      "cell_type": "code",
      "execution_count": 2,
      "metadata": {
        "id": "9kfAzuTOfm2v"
      },
      "outputs": [],
      "source": [
        "import tensorflow as tf\n",
        "import pandas as pd\n",
        "import numpy as np\n",
        "import matplotlib.pyplot as plt\n",
        "import tensorflow_datasets as tfds\n",
        "from tensorflow.keras.models import Model\n",
        "from tensorflow.keras.layers import Layer\n",
        "from tensorflow.keras.layers import Conv2D, MaxPool2D, Dense, Flatten, InputLayer, BatchNormalization, Input\n",
        "from tensorflow.keras.losses import BinaryCrossentropy\n",
        "from tensorflow.keras.optimizers import Adam"
      ]
    },
    {
      "cell_type": "code",
      "execution_count": null,
      "metadata": {
        "id": "vqM_Ob0Cfpcd",
        "colab": {
          "base_uri": "https://localhost:8080/",
          "height": 151,
          "referenced_widgets": [
            "b02ab9c5f2ee4e3b877832f25360703f",
            "824b06f6b9554765a909f1c51c8a6c1e",
            "6a6fce3ec8e14192bee5e56e1ca28c35",
            "3ec88ec5864249ae90ac708912317ece",
            "9322ce23a239483084c4532642a9510e",
            "8b3841b3a86b467e93a82538e491a646",
            "372e5c186f6a4655b06fdcddd63b7b1f",
            "e4a1a00feee849a9bd1f4d0c751394e1",
            "9ee451c74dce471a8ebc412de6160dae",
            "4cda2159bd194eeb81c2ecb0fc9efbc9",
            "597fa03c46ff4fa5b8e33ef93097dd98",
            "f71b8bfdbd984a2eba5374d877fb5f72",
            "12a75345060148e3a0b8242c99fde59f",
            "aa744cedb95e4ebd8008949460833097",
            "a652f91d4b134d579b7015cecc963bbc",
            "c9e47f5170024d69b5f14c77ec76d886",
            "2e17900e839e4896b1b5dea6f1d1425c",
            "5eebc79b279e40c6ad9c7321e80d05f6",
            "35ab5df024ae4450a44bc2d1c89235ea",
            "65fc14697f684ce7afa41dbecab9b3f0",
            "28a048183c2f4f9498aae0a88aebcae5",
            "8dc9ddc2b6194446a0efae2fb62183e1",
            "1fe01bdc2e1a4e28a888a771686a739a",
            "6b959cff10964e15912ef42a97eb0257",
            "5beb00f2ed5d423bbb4165a93ba3dda8",
            "1aa10cec793e40c7b984df418da6761e",
            "bfe0659e7c5a4cef9e35f169fd94e366",
            "7c05af8567cc4e728b4790c441d3d17a",
            "9e88de2360a547a5a3ce0cb3ddc88fb4",
            "dca8ec198a4d4c6681ae2236bebf6609",
            "0a9d630054494e17b9a670319b600a4b",
            "db9c6d9d76e24d999c24d03b75cf6677",
            "a3aac8fef1c24e8a83f3b4886524befc"
          ]
        },
        "outputId": "e6858c4f-c496-412c-d864-f9bbfa6d85ef"
      },
      "outputs": [
        {
          "output_type": "stream",
          "name": "stdout",
          "text": [
            "Downloading and preparing dataset 337.08 MiB (download: 337.08 MiB, generated: Unknown size, total: 337.08 MiB) to /root/tensorflow_datasets/malaria/1.0.0...\n"
          ]
        },
        {
          "output_type": "display_data",
          "data": {
            "text/plain": [
              "Dl Completed...: 0 url [00:00, ? url/s]"
            ],
            "application/vnd.jupyter.widget-view+json": {
              "version_major": 2,
              "version_minor": 0,
              "model_id": "b02ab9c5f2ee4e3b877832f25360703f"
            }
          },
          "metadata": {}
        },
        {
          "output_type": "display_data",
          "data": {
            "text/plain": [
              "Dl Size...: 0 MiB [00:00, ? MiB/s]"
            ],
            "application/vnd.jupyter.widget-view+json": {
              "version_major": 2,
              "version_minor": 0,
              "model_id": "f71b8bfdbd984a2eba5374d877fb5f72"
            }
          },
          "metadata": {}
        },
        {
          "output_type": "display_data",
          "data": {
            "text/plain": [
              "Extraction completed...: 0 file [00:00, ? file/s]"
            ],
            "application/vnd.jupyter.widget-view+json": {
              "version_major": 2,
              "version_minor": 0,
              "model_id": "1fe01bdc2e1a4e28a888a771686a739a"
            }
          },
          "metadata": {}
        }
      ],
      "source": [
        "dataset,dataset_info = tfds.load('malaria', with_info = True, as_supervised=True, shuffle_files=True)"
      ]
    },
    {
      "cell_type": "code",
      "execution_count": null,
      "metadata": {
        "id": "6p6IBtechCmp"
      },
      "outputs": [],
      "source": [
        "dataset"
      ]
    },
    {
      "cell_type": "code",
      "execution_count": null,
      "metadata": {
        "id": "jVZhbXknhSbl"
      },
      "outputs": [],
      "source": [
        "dataset_info"
      ]
    },
    {
      "cell_type": "code",
      "execution_count": 31,
      "metadata": {
        "id": "kgQ6c726hUd0",
        "colab": {
          "base_uri": "https://localhost:8080/"
        },
        "outputId": "cf6837d1-fc76-4024-c58e-30320d9647da"
      },
      "outputs": [
        {
          "output_type": "stream",
          "name": "stdout",
          "text": [
            "(<tf.Tensor: shape=(103, 103, 3), dtype=uint8, numpy=\n",
            "array([[[0, 0, 0],\n",
            "        [0, 0, 0],\n",
            "        [0, 0, 0],\n",
            "        ...,\n",
            "        [0, 0, 0],\n",
            "        [0, 0, 0],\n",
            "        [0, 0, 0]],\n",
            "\n",
            "       [[0, 0, 0],\n",
            "        [0, 0, 0],\n",
            "        [0, 0, 0],\n",
            "        ...,\n",
            "        [0, 0, 0],\n",
            "        [0, 0, 0],\n",
            "        [0, 0, 0]],\n",
            "\n",
            "       [[0, 0, 0],\n",
            "        [0, 0, 0],\n",
            "        [0, 0, 0],\n",
            "        ...,\n",
            "        [0, 0, 0],\n",
            "        [0, 0, 0],\n",
            "        [0, 0, 0]],\n",
            "\n",
            "       ...,\n",
            "\n",
            "       [[0, 0, 0],\n",
            "        [0, 0, 0],\n",
            "        [0, 0, 0],\n",
            "        ...,\n",
            "        [0, 0, 0],\n",
            "        [0, 0, 0],\n",
            "        [0, 0, 0]],\n",
            "\n",
            "       [[0, 0, 0],\n",
            "        [0, 0, 0],\n",
            "        [0, 0, 0],\n",
            "        ...,\n",
            "        [0, 0, 0],\n",
            "        [0, 0, 0],\n",
            "        [0, 0, 0]],\n",
            "\n",
            "       [[0, 0, 0],\n",
            "        [0, 0, 0],\n",
            "        [0, 0, 0],\n",
            "        ...,\n",
            "        [0, 0, 0],\n",
            "        [0, 0, 0],\n",
            "        [0, 0, 0]]], dtype=uint8)>, <tf.Tensor: shape=(), dtype=int64, numpy=1>)\n"
          ]
        }
      ],
      "source": [
        "for data in dataset['train'].take(1):\n",
        "  print(data)"
      ]
    },
    {
      "cell_type": "code",
      "execution_count": 32,
      "metadata": {
        "id": "dXmCtnaNmWEK"
      },
      "outputs": [],
      "source": [
        "def splits(dataset, TRAIN_RATIO, VAL_RATIO, TEST_RATIO):\n",
        "  DATSET_SIZE = len(dataset)\n",
        "\n",
        "  train_dataset = dataset.take(int(DATSET_SIZE*TRAIN_RATIO))\n",
        "\n",
        "  val_test = dataset.skip(int(DATSET_SIZE*TRAIN_RATIO))\n",
        "  val_dataset = val_test.take(int(DATSET_SIZE*VAL_RATIO))\n",
        "\n",
        "  test_dataset = val_test.skip(int(DATSET_SIZE*VAL_RATIO))\n",
        "  return train_dataset, val_dataset, test_dataset"
      ]
    },
    {
      "cell_type": "code",
      "execution_count": 33,
      "metadata": {
        "id": "aL-GAsC-iJk1",
        "colab": {
          "base_uri": "https://localhost:8080/"
        },
        "outputId": "f2959f7a-dc86-4e7e-8290-aa72fb6fcc57"
      },
      "outputs": [
        {
          "output_type": "stream",
          "name": "stdout",
          "text": [
            "[(array([[[0, 0, 0],\n",
            "        [0, 0, 0],\n",
            "        [0, 0, 0],\n",
            "        ...,\n",
            "        [0, 0, 0],\n",
            "        [0, 0, 0],\n",
            "        [0, 0, 0]],\n",
            "\n",
            "       [[0, 0, 0],\n",
            "        [0, 0, 0],\n",
            "        [0, 0, 0],\n",
            "        ...,\n",
            "        [0, 0, 0],\n",
            "        [0, 0, 0],\n",
            "        [0, 0, 0]],\n",
            "\n",
            "       [[0, 0, 0],\n",
            "        [0, 0, 0],\n",
            "        [0, 0, 0],\n",
            "        ...,\n",
            "        [0, 0, 0],\n",
            "        [0, 0, 0],\n",
            "        [0, 0, 0]],\n",
            "\n",
            "       ...,\n",
            "\n",
            "       [[0, 0, 0],\n",
            "        [0, 0, 0],\n",
            "        [0, 0, 0],\n",
            "        ...,\n",
            "        [0, 0, 0],\n",
            "        [0, 0, 0],\n",
            "        [0, 0, 0]],\n",
            "\n",
            "       [[0, 0, 0],\n",
            "        [0, 0, 0],\n",
            "        [0, 0, 0],\n",
            "        ...,\n",
            "        [0, 0, 0],\n",
            "        [0, 0, 0],\n",
            "        [0, 0, 0]],\n",
            "\n",
            "       [[0, 0, 0],\n",
            "        [0, 0, 0],\n",
            "        [0, 0, 0],\n",
            "        ...,\n",
            "        [0, 0, 0],\n",
            "        [0, 0, 0],\n",
            "        [0, 0, 0]]], dtype=uint8), 1)] [(array([[[0, 0, 0],\n",
            "        [0, 0, 0],\n",
            "        [0, 0, 0],\n",
            "        ...,\n",
            "        [0, 0, 0],\n",
            "        [0, 0, 0],\n",
            "        [0, 0, 0]],\n",
            "\n",
            "       [[0, 0, 0],\n",
            "        [0, 0, 0],\n",
            "        [0, 0, 0],\n",
            "        ...,\n",
            "        [0, 0, 0],\n",
            "        [0, 0, 0],\n",
            "        [0, 0, 0]],\n",
            "\n",
            "       [[0, 0, 0],\n",
            "        [0, 0, 0],\n",
            "        [0, 0, 0],\n",
            "        ...,\n",
            "        [0, 0, 0],\n",
            "        [0, 0, 0],\n",
            "        [0, 0, 0]],\n",
            "\n",
            "       ...,\n",
            "\n",
            "       [[0, 0, 0],\n",
            "        [0, 0, 0],\n",
            "        [0, 0, 0],\n",
            "        ...,\n",
            "        [0, 0, 0],\n",
            "        [0, 0, 0],\n",
            "        [0, 0, 0]],\n",
            "\n",
            "       [[0, 0, 0],\n",
            "        [0, 0, 0],\n",
            "        [0, 0, 0],\n",
            "        ...,\n",
            "        [0, 0, 0],\n",
            "        [0, 0, 0],\n",
            "        [0, 0, 0]],\n",
            "\n",
            "       [[0, 0, 0],\n",
            "        [0, 0, 0],\n",
            "        [0, 0, 0],\n",
            "        ...,\n",
            "        [0, 0, 0],\n",
            "        [0, 0, 0],\n",
            "        [0, 0, 0]]], dtype=uint8), 0)] [(array([[[0, 0, 0],\n",
            "        [0, 0, 0],\n",
            "        [0, 0, 0],\n",
            "        ...,\n",
            "        [0, 0, 0],\n",
            "        [0, 0, 0],\n",
            "        [0, 0, 0]],\n",
            "\n",
            "       [[0, 0, 0],\n",
            "        [0, 0, 0],\n",
            "        [0, 0, 0],\n",
            "        ...,\n",
            "        [0, 0, 0],\n",
            "        [0, 0, 0],\n",
            "        [0, 0, 0]],\n",
            "\n",
            "       [[0, 0, 0],\n",
            "        [0, 0, 0],\n",
            "        [0, 0, 0],\n",
            "        ...,\n",
            "        [0, 0, 0],\n",
            "        [0, 0, 0],\n",
            "        [0, 0, 0]],\n",
            "\n",
            "       ...,\n",
            "\n",
            "       [[0, 0, 0],\n",
            "        [0, 0, 0],\n",
            "        [0, 0, 0],\n",
            "        ...,\n",
            "        [0, 0, 0],\n",
            "        [0, 0, 0],\n",
            "        [0, 0, 0]],\n",
            "\n",
            "       [[0, 0, 0],\n",
            "        [0, 0, 0],\n",
            "        [0, 0, 0],\n",
            "        ...,\n",
            "        [0, 0, 0],\n",
            "        [0, 0, 0],\n",
            "        [0, 0, 0]],\n",
            "\n",
            "       [[0, 0, 0],\n",
            "        [0, 0, 0],\n",
            "        [0, 0, 0],\n",
            "        ...,\n",
            "        [0, 0, 0],\n",
            "        [0, 0, 0],\n",
            "        [0, 0, 0]]], dtype=uint8), 0)]\n"
          ]
        }
      ],
      "source": [
        "TRAIN_RATIO =0.8\n",
        "VAL_RATIO =0.1\n",
        "TEST_RATIO =0.1\n",
        "\n",
        "#dataset = tf.data.Dataset.range(10)\n",
        "\n",
        "train_dataset, val_dataset, test_dataset = splits(dataset['train'], TRAIN_RATIO, VAL_RATIO, TEST_RATIO)\n",
        "print(list(train_dataset.take(1).as_numpy_iterator()), list(val_dataset.take(1).as_numpy_iterator()), list(test_dataset.take(1).as_numpy_iterator()))"
      ]
    },
    {
      "cell_type": "markdown",
      "metadata": {
        "id": "ioKDZVP4sowY"
      },
      "source": [
        "**DATA VISUALISATION**"
      ]
    },
    {
      "cell_type": "code",
      "execution_count": 34,
      "metadata": {
        "id": "dtpobHYMs1Wr",
        "colab": {
          "base_uri": "https://localhost:8080/",
          "height": 428
        },
        "outputId": "4785749b-f32e-4531-d8c1-f8d963e7df63"
      },
      "outputs": [
        {
          "output_type": "display_data",
          "data": {
            "text/plain": [
              "<Figure size 640x480 with 16 Axes>"
            ],
            "image/png": "[encoded data removed]"
          },
          "metadata": {}
        }
      ],
      "source": [
        "for i, (image, label) in enumerate(train_dataset.take(16)):\n",
        "  ax = plt.subplot(4,4,i+1)\n",
        "  plt.imshow(image)\n",
        "  plt.title(dataset_info.features['label'].int2str(label))\n",
        "  plt.axis('off')"
      ]
    },
    {
      "cell_type": "markdown",
      "metadata": {
        "id": "ZcN-itSgX9pb"
      },
      "source": [
        "**DATA PROCESSING**"
      ]
    },
    {
      "cell_type": "code",
      "execution_count": 35,
      "metadata": {
        "id": "XR-vQARBj_bQ"
      },
      "outputs": [],
      "source": [
        "IM_SIZE = 224\n",
        "def resize_rescale(image,label):\n",
        "  return tf.image.resize(image,(IM_SIZE, IM_SIZE))/255,label"
      ]
    },
    {
      "cell_type": "code",
      "execution_count": 36,
      "metadata": {
        "id": "-O5K8IO-YAq8"
      },
      "outputs": [],
      "source": [
        "train_dataset = train_dataset.map(resize_rescale)\n",
        "val_dataset = val_dataset.map(resize_rescale)\n",
        "test_dataset = test_dataset.map(resize_rescale)"
      ]
    },
    {
      "cell_type": "code",
      "execution_count": 37,
      "metadata": {
        "id": "cQeLwShikh-8",
        "colab": {
          "base_uri": "https://localhost:8080/"
        },
        "outputId": "c14658ce-3726-44e8-9f95-5718a35aea05"
      },
      "outputs": [
        {
          "output_type": "stream",
          "name": "stdout",
          "text": [
            "tf.Tensor(\n",
            "[[[0. 0. 0.]\n",
            "  [0. 0. 0.]\n",
            "  [0. 0. 0.]\n",
            "  ...\n",
            "  [0. 0. 0.]\n",
            "  [0. 0. 0.]\n",
            "  [0. 0. 0.]]\n",
            "\n",
            " [[0. 0. 0.]\n",
            "  [0. 0. 0.]\n",
            "  [0. 0. 0.]\n",
            "  ...\n",
            "  [0. 0. 0.]\n",
            "  [0. 0. 0.]\n",
            "  [0. 0. 0.]]\n",
            "\n",
            " [[0. 0. 0.]\n",
            "  [0. 0. 0.]\n",
            "  [0. 0. 0.]\n",
            "  ...\n",
            "  [0. 0. 0.]\n",
            "  [0. 0. 0.]\n",
            "  [0. 0. 0.]]\n",
            "\n",
            " ...\n",
            "\n",
            " [[0. 0. 0.]\n",
            "  [0. 0. 0.]\n",
            "  [0. 0. 0.]\n",
            "  ...\n",
            "  [0. 0. 0.]\n",
            "  [0. 0. 0.]\n",
            "  [0. 0. 0.]]\n",
            "\n",
            " [[0. 0. 0.]\n",
            "  [0. 0. 0.]\n",
            "  [0. 0. 0.]\n",
            "  ...\n",
            "  [0. 0. 0.]\n",
            "  [0. 0. 0.]\n",
            "  [0. 0. 0.]]\n",
            "\n",
            " [[0. 0. 0.]\n",
            "  [0. 0. 0.]\n",
            "  [0. 0. 0.]\n",
            "  ...\n",
            "  [0. 0. 0.]\n",
            "  [0. 0. 0.]\n",
            "  [0. 0. 0.]]], shape=(224, 224, 3), dtype=float32) tf.Tensor(1, shape=(), dtype=int64)\n"
          ]
        }
      ],
      "source": [
        "for image,label in train_dataset.take(1):\n",
        "  print(image,label)"
      ]
    },
    {
      "cell_type": "code",
      "execution_count": 38,
      "metadata": {
        "id": "eKub2xg-lWqj"
      },
      "outputs": [],
      "source": [
        "train_dataset = train_dataset.shuffle(buffer_size=8,reshuffle_each_iteration=True).batch(32).prefetch(tf.data.AUTOTUNE)"
      ]
    },
    {
      "cell_type": "code",
      "source": [
        "val_dataset = val_dataset.shuffle(buffer_size=8,reshuffle_each_iteration=True).batch(32).prefetch(tf.data.AUTOTUNE)"
      ],
      "metadata": {
        "id": "tdrtsIMSmXKZ"
      },
      "execution_count": 39,
      "outputs": []
    },
    {
      "cell_type": "code",
      "source": [
        "train_dataset"
      ],
      "metadata": {
        "id": "eBFWY1Ezn5bs",
        "colab": {
          "base_uri": "https://localhost:8080/"
        },
        "outputId": "f8efc489-25d4-4e9a-f457-4f041934ee75"
      },
      "execution_count": 40,
      "outputs": [
        {
          "output_type": "execute_result",
          "data": {
            "text/plain": [
              "<_PrefetchDataset element_spec=(TensorSpec(shape=(None, 224, 224, 3), dtype=tf.float32, name=None), TensorSpec(shape=(None,), dtype=tf.int64, name=None))>"
            ]
          },
          "metadata": {},
          "execution_count": 40
        }
      ]
    },
    {
      "cell_type": "code",
      "source": [
        "val_dataset"
      ],
      "metadata": {
        "id": "XGKiDW3Rn785",
        "colab": {
          "base_uri": "https://localhost:8080/"
        },
        "outputId": "2554f0fe-7192-4cf0-89a8-9f96e6a7eac1"
      },
      "execution_count": 41,
      "outputs": [
        {
          "output_type": "execute_result",
          "data": {
            "text/plain": [
              "<_PrefetchDataset element_spec=(TensorSpec(shape=(None, 224, 224, 3), dtype=tf.float32, name=None), TensorSpec(shape=(None,), dtype=tf.int64, name=None))>"
            ]
          },
          "metadata": {},
          "execution_count": 41
        }
      ]
    },
    {
      "cell_type": "markdown",
      "metadata": {
        "id": "VtEiAIWHchEU"
      },
      "source": [
        "**MODEL CREATION**"
      ]
    },
    {
      "cell_type": "markdown",
      "source": [
        "Sequential API"
      ],
      "metadata": {
        "id": "jg1G3ysDD9Lk"
      }
    },
    {
      "cell_type": "code",
      "execution_count": 26,
      "metadata": {
        "colab": {
          "base_uri": "https://localhost:8080/"
        },
        "id": "SJC-znuomhQE",
        "outputId": "5b29fc1d-3649-4dd4-cd6f-1ac58fc5b886"
      },
      "outputs": [
        {
          "output_type": "stream",
          "name": "stdout",
          "text": [
            "Model: \"sequential_1\"\n",
            "_________________________________________________________________\n",
            " Layer (type)                Output Shape              Param #   \n",
            "=================================================================\n",
            " conv2d_4 (Conv2D)           (None, 220, 220, 6)       456       \n",
            "                                                                 \n",
            " batch_normalization_8 (Bat  (None, 220, 220, 6)       24        \n",
            " chNormalization)                                                \n",
            "                                                                 \n",
            " max_pooling2d_4 (MaxPoolin  (None, 110, 110, 6)       0         \n",
            " g2D)                                                            \n",
            "                                                                 \n",
            " conv2d_5 (Conv2D)           (None, 106, 106, 16)      2416      \n",
            "                                                                 \n",
            " batch_normalization_9 (Bat  (None, 106, 106, 16)      64        \n",
            " chNormalization)                                                \n",
            "                                                                 \n",
            " max_pooling2d_5 (MaxPoolin  (None, 53, 53, 16)        0         \n",
            " g2D)                                                            \n",
            "                                                                 \n",
            " flatten_2 (Flatten)         (None, 44944)             0         \n",
            "                                                                 \n",
            " dense_6 (Dense)             (None, 100)               4494500   \n",
            "                                                                 \n",
            " batch_normalization_10 (Ba  (None, 100)               400       \n",
            " tchNormalization)                                               \n",
            "                                                                 \n",
            " dense_7 (Dense)             (None, 10)                1010      \n",
            "                                                                 \n",
            " batch_normalization_11 (Ba  (None, 10)                40        \n",
            " tchNormalization)                                               \n",
            "                                                                 \n",
            " dense_8 (Dense)             (None, 1)                 11        \n",
            "                                                                 \n",
            "=================================================================\n",
            "Total params: 4498921 (17.16 MB)\n",
            "Trainable params: 4498657 (17.16 MB)\n",
            "Non-trainable params: 264 (1.03 KB)\n",
            "_________________________________________________________________\n"
          ]
        }
      ],
      "source": [
        "model = tf.keras.Sequential([\n",
        "                             InputLayer(input_shape=(IM_SIZE,IM_SIZE,3)),\n",
        "\n",
        "                             Conv2D(filters=6, kernel_size=5,strides=1, padding ='valid', activation='relu'),\n",
        "                             BatchNormalization(),\n",
        "                             MaxPool2D(pool_size=2, strides=2),\n",
        "\n",
        "                             Conv2D(filters=16, kernel_size=5,strides=1, padding ='valid', activation='relu'),\n",
        "                             BatchNormalization(),\n",
        "                             MaxPool2D(pool_size=2, strides=2),\n",
        "\n",
        "                             Flatten(),\n",
        "\n",
        "                             Dense(100, activation='relu'),\n",
        "                             BatchNormalization(),\n",
        "                             Dense(10, activation='relu'),\n",
        "                             BatchNormalization(),\n",
        "                             Dense(1, activation='sigmoid'),\n",
        "])\n",
        "model.summary()"
      ]
    },
    {
      "cell_type": "markdown",
      "source": [
        "Functional API"
      ],
      "metadata": {
        "id": "dURPvzKgEEhW"
      }
    },
    {
      "cell_type": "code",
      "source": [
        "func_input = Input(shape =(IM_SIZE,IM_SIZE,3), name = 'Lenet Model' )\n",
        "\n",
        "x= Conv2D(filters=6, kernel_size=5,strides=1, padding ='valid', activation='relu')(func_input)\n",
        "x= BatchNormalization()(x)\n",
        "x= MaxPool2D(pool_size=2, strides=2)(x)\n",
        "x= Conv2D(filters=16, kernel_size=5,strides=1, padding ='valid', activation='relu')(x)\n",
        "x=BatchNormalization()(x)\n",
        "x= MaxPool2D(pool_size=2, strides=2)(x)\n",
        "\n",
        "x=Flatten()(x)\n",
        "\n",
        "x = Dense(100, activation='relu')(x)\n",
        "x = BatchNormalization()(x)\n",
        "x = Dense(10, activation='relu')(x)\n",
        "x = BatchNormalization()(x)\n",
        "\n",
        "func_output= Dense(1, activation='sigmoid')(x)\n",
        "\n",
        "lenet_model = Model(func_input,func_output, name = \"Lenet_Model\")\n",
        "lenet_model.summary()"
      ],
      "metadata": {
        "colab": {
          "base_uri": "https://localhost:8080/"
        },
        "id": "IrX3_K98EGck",
        "outputId": "1029c5fd-cb57-41e7-99c4-54666916f147"
      },
      "execution_count": 42,
      "outputs": [
        {
          "output_type": "stream",
          "name": "stdout",
          "text": [
            "Model: \"Lenet_Model\"\n",
            "_________________________________________________________________\n",
            " Layer (type)                Output Shape              Param #   \n",
            "=================================================================\n",
            " Lenet Model (InputLayer)    [(None, 224, 224, 3)]     0         \n",
            "                                                                 \n",
            " conv2d_8 (Conv2D)           (None, 220, 220, 6)       456       \n",
            "                                                                 \n",
            " batch_normalization_16 (Ba  (None, 220, 220, 6)       24        \n",
            " tchNormalization)                                               \n",
            "                                                                 \n",
            " max_pooling2d_8 (MaxPoolin  (None, 110, 110, 6)       0         \n",
            " g2D)                                                            \n",
            "                                                                 \n",
            " conv2d_9 (Conv2D)           (None, 106, 106, 16)      2416      \n",
            "                                                                 \n",
            " batch_normalization_17 (Ba  (None, 106, 106, 16)      64        \n",
            " tchNormalization)                                               \n",
            "                                                                 \n",
            " max_pooling2d_9 (MaxPoolin  (None, 53, 53, 16)        0         \n",
            " g2D)                                                            \n",
            "                                                                 \n",
            " flatten_4 (Flatten)         (None, 44944)             0         \n",
            "                                                                 \n",
            " dense_12 (Dense)            (None, 100)               4494500   \n",
            "                                                                 \n",
            " batch_normalization_18 (Ba  (None, 100)               400       \n",
            " tchNormalization)                                               \n",
            "                                                                 \n",
            " dense_13 (Dense)            (None, 10)                1010      \n",
            "                                                                 \n",
            " batch_normalization_19 (Ba  (None, 10)                40        \n",
            " tchNormalization)                                               \n",
            "                                                                 \n",
            " dense_14 (Dense)            (None, 1)                 11        \n",
            "                                                                 \n",
            "=================================================================\n",
            "Total params: 4498921 (17.16 MB)\n",
            "Trainable params: 4498657 (17.16 MB)\n",
            "Non-trainable params: 264 (1.03 KB)\n",
            "_________________________________________________________________\n"
          ]
        }
      ]
    },
    {
      "cell_type": "markdown",
      "source": [
        "# Model SubClassing"
      ],
      "metadata": {
        "id": "W0zRy68EN1yF"
      }
    },
    {
      "cell_type": "code",
      "source": [
        "class FeatureExtractor(Layer):\n",
        "  def __init__(self):\n",
        "    super(FeatureExtractor,self).__init__()\n",
        "\n",
        "    self.conv_1 = Conv2D(filters=6, kernel_size=3,strides=1, padding ='valid', activation='relu')\n",
        "    self.batch_1 = BatchNormalization()\n",
        "    self.pool_1 = MaxPool2D(pool_size=2, strides=2)\n",
        "\n",
        "    self.conv_2 = Conv2D(filters=16, kernel_size=3,strides=1, padding ='valid', activation='relu')\n",
        "    self.batch_2 = BatchNormalization()\n",
        "    self.pool_2 = MaxPool2D(pool_size=2, strides=2)\n",
        "\n",
        "\n",
        "\n",
        "  def call(self,x,training):\n",
        "    x = self.conv_1(x)\n",
        "    x = self.batch_1(x)\n",
        "    x = self.pool_1(x)\n",
        "\n",
        "    x= self.conv_2(x)\n",
        "    x = self.batch_2(x)\n",
        "    x = self.pool_2(x)\n",
        "\n",
        "    return x"
      ],
      "metadata": {
        "id": "kKr_CHpcGqmL"
      },
      "execution_count": null,
      "outputs": []
    },
    {
      "cell_type": "code",
      "source": [],
      "metadata": {
        "id": "lu_0t6EfN93B"
      },
      "execution_count": null,
      "outputs": []
    },
    {
      "cell_type": "markdown",
      "source": [
        "# Model Training"
      ],
      "metadata": {
        "id": "d69QpoGmOXyd"
      }
    },
    {
      "cell_type": "code",
      "execution_count": 43,
      "metadata": {
        "id": "z9iFAgvVe8Lf"
      },
      "outputs": [],
      "source": [
        "lenet_model.compile(\n",
        "    optimizer=Adam(learning_rate=0.01),\n",
        "    loss=BinaryCrossentropy(),\n",
        "    metrics = 'accuracy',\n",
        ")"
      ]
    },
    {
      "cell_type": "code",
      "execution_count": 44,
      "metadata": {
        "colab": {
          "base_uri": "https://localhost:8080/"
        },
        "id": "ty_ED__yknQ-",
        "outputId": "23e313ac-e17b-4a67-8314-33887cf3f253"
      },
      "outputs": [
        {
          "output_type": "stream",
          "name": "stdout",
          "text": [
            "Epoch 1/75\n",
            "689/689 [==============================] - 50s 62ms/step - loss: 0.5873 - accuracy: 0.6761 - val_loss: 0.8162 - val_accuracy: 0.4947\n",
            "Epoch 2/75\n",
            "689/689 [==============================] - 42s 61ms/step - loss: 0.6581 - accuracy: 0.6107 - val_loss: 0.7597 - val_accuracy: 0.6185\n",
            "Epoch 3/75\n",
            "689/689 [==============================] - 43s 62ms/step - loss: 0.6412 - accuracy: 0.6322 - val_loss: 3.6419 - val_accuracy: 0.5089\n",
            "Epoch 4/75\n",
            "689/689 [==============================] - 42s 61ms/step - loss: 0.6369 - accuracy: 0.6337 - val_loss: 0.6836 - val_accuracy: 0.6316\n",
            "Epoch 5/75\n",
            "689/689 [==============================] - 42s 61ms/step - loss: 0.6188 - accuracy: 0.6593 - val_loss: 0.8364 - val_accuracy: 0.5347\n",
            "Epoch 6/75\n",
            "689/689 [==============================] - 50s 72ms/step - loss: 0.6023 - accuracy: 0.6742 - val_loss: 0.7187 - val_accuracy: 0.6083\n",
            "Epoch 7/75\n",
            "689/689 [==============================] - 42s 61ms/step - loss: 0.5879 - accuracy: 0.6899 - val_loss: 0.7043 - val_accuracy: 0.6102\n",
            "Epoch 8/75\n",
            "689/689 [==============================] - 42s 60ms/step - loss: 0.5822 - accuracy: 0.6902 - val_loss: 1.3665 - val_accuracy: 0.5183\n",
            "Epoch 9/75\n",
            "689/689 [==============================] - 42s 60ms/step - loss: 0.5630 - accuracy: 0.7077 - val_loss: 0.6819 - val_accuracy: 0.6091\n",
            "Epoch 10/75\n",
            "689/689 [==============================] - 43s 62ms/step - loss: 0.5459 - accuracy: 0.7229 - val_loss: 0.9508 - val_accuracy: 0.5753\n",
            "Epoch 11/75\n",
            "689/689 [==============================] - 48s 70ms/step - loss: 0.5248 - accuracy: 0.7391 - val_loss: 0.9207 - val_accuracy: 0.5993\n",
            "Epoch 12/75\n",
            "689/689 [==============================] - 43s 62ms/step - loss: 0.4931 - accuracy: 0.7586 - val_loss: 1.2254 - val_accuracy: 0.5568\n",
            "Epoch 13/75\n",
            "689/689 [==============================] - 51s 73ms/step - loss: 0.5006 - accuracy: 0.7526 - val_loss: 1.0639 - val_accuracy: 0.5717\n",
            "Epoch 14/75\n",
            "689/689 [==============================] - 51s 73ms/step - loss: 0.4617 - accuracy: 0.7779 - val_loss: 1.0763 - val_accuracy: 0.5666\n",
            "Epoch 15/75\n",
            "689/689 [==============================] - 42s 62ms/step - loss: 0.4242 - accuracy: 0.8018 - val_loss: 1.2433 - val_accuracy: 0.5691\n",
            "Epoch 16/75\n",
            "689/689 [==============================] - 48s 70ms/step - loss: 0.4000 - accuracy: 0.8159 - val_loss: 1.2821 - val_accuracy: 0.6015\n",
            "Epoch 17/75\n",
            "689/689 [==============================] - 55s 80ms/step - loss: 0.3633 - accuracy: 0.8364 - val_loss: 1.3197 - val_accuracy: 0.5858\n",
            "Epoch 18/75\n",
            "689/689 [==============================] - 50s 73ms/step - loss: 0.3423 - accuracy: 0.8460 - val_loss: 1.5721 - val_accuracy: 0.5837\n",
            "Epoch 19/75\n",
            "689/689 [==============================] - 43s 62ms/step - loss: 0.3085 - accuracy: 0.8628 - val_loss: 1.4287 - val_accuracy: 0.5917\n",
            "Epoch 20/75\n",
            "689/689 [==============================] - 50s 73ms/step - loss: 0.2947 - accuracy: 0.8715 - val_loss: 1.3227 - val_accuracy: 0.6073\n",
            "Epoch 21/75\n",
            "689/689 [==============================] - 43s 62ms/step - loss: 0.2717 - accuracy: 0.8829 - val_loss: 1.7055 - val_accuracy: 0.5797\n",
            "Epoch 22/75\n",
            "689/689 [==============================] - 54s 78ms/step - loss: 0.2594 - accuracy: 0.8881 - val_loss: 2.2720 - val_accuracy: 0.5583\n",
            "Epoch 23/75\n",
            "689/689 [==============================] - 43s 63ms/step - loss: 0.2552 - accuracy: 0.8892 - val_loss: 1.3439 - val_accuracy: 0.6004\n",
            "Epoch 24/75\n",
            "689/689 [==============================] - 42s 62ms/step - loss: 0.2330 - accuracy: 0.9006 - val_loss: 1.4323 - val_accuracy: 0.5996\n",
            "Epoch 25/75\n",
            "689/689 [==============================] - 43s 62ms/step - loss: 0.2279 - accuracy: 0.9032 - val_loss: 1.7590 - val_accuracy: 0.6011\n",
            "Epoch 26/75\n",
            "689/689 [==============================] - 43s 62ms/step - loss: 0.2033 - accuracy: 0.9131 - val_loss: 2.0418 - val_accuracy: 0.5898\n",
            "Epoch 27/75\n",
            "689/689 [==============================] - 44s 63ms/step - loss: 0.2798 - accuracy: 0.8812 - val_loss: 1.3963 - val_accuracy: 0.5782\n",
            "Epoch 28/75\n",
            "689/689 [==============================] - 42s 61ms/step - loss: 0.2072 - accuracy: 0.9129 - val_loss: 1.5303 - val_accuracy: 0.6127\n",
            "Epoch 29/75\n",
            "689/689 [==============================] - 42s 60ms/step - loss: 0.1892 - accuracy: 0.9222 - val_loss: 2.0009 - val_accuracy: 0.5840\n",
            "Epoch 30/75\n",
            "689/689 [==============================] - 43s 62ms/step - loss: 0.1782 - accuracy: 0.9286 - val_loss: 1.7148 - val_accuracy: 0.6000\n",
            "Epoch 31/75\n",
            "689/689 [==============================] - 42s 61ms/step - loss: 0.1579 - accuracy: 0.9387 - val_loss: 1.8636 - val_accuracy: 0.5967\n",
            "Epoch 32/75\n",
            "689/689 [==============================] - 45s 66ms/step - loss: 0.1495 - accuracy: 0.9432 - val_loss: 2.1409 - val_accuracy: 0.6029\n",
            "Epoch 33/75\n",
            "689/689 [==============================] - 41s 60ms/step - loss: 0.1467 - accuracy: 0.9433 - val_loss: 2.3695 - val_accuracy: 0.5938\n",
            "Epoch 34/75\n",
            "689/689 [==============================] - 42s 61ms/step - loss: 0.1633 - accuracy: 0.9340 - val_loss: 2.0078 - val_accuracy: 0.5931\n",
            "Epoch 35/75\n",
            "689/689 [==============================] - 42s 61ms/step - loss: 0.1343 - accuracy: 0.9478 - val_loss: 1.9567 - val_accuracy: 0.6058\n",
            "Epoch 36/75\n",
            "689/689 [==============================] - 43s 63ms/step - loss: 0.1108 - accuracy: 0.9580 - val_loss: 2.2230 - val_accuracy: 0.6029\n",
            "Epoch 37/75\n",
            "689/689 [==============================] - 42s 61ms/step - loss: 0.1132 - accuracy: 0.9560 - val_loss: 2.5257 - val_accuracy: 0.6015\n",
            "Epoch 38/75\n",
            "689/689 [==============================] - 42s 60ms/step - loss: 0.1229 - accuracy: 0.9536 - val_loss: 2.0436 - val_accuracy: 0.6018\n",
            "Epoch 39/75\n",
            "689/689 [==============================] - 50s 73ms/step - loss: 0.1025 - accuracy: 0.9611 - val_loss: 2.2708 - val_accuracy: 0.5993\n",
            "Epoch 40/75\n",
            "689/689 [==============================] - 42s 61ms/step - loss: 0.1167 - accuracy: 0.9552 - val_loss: 2.2406 - val_accuracy: 0.6029\n",
            "Epoch 41/75\n",
            "689/689 [==============================] - 51s 74ms/step - loss: 0.0945 - accuracy: 0.9645 - val_loss: 2.2027 - val_accuracy: 0.6120\n",
            "Epoch 42/75\n",
            "689/689 [==============================] - 43s 63ms/step - loss: 0.0794 - accuracy: 0.9699 - val_loss: 2.6373 - val_accuracy: 0.6047\n",
            "Epoch 43/75\n",
            "689/689 [==============================] - 42s 60ms/step - loss: 0.0754 - accuracy: 0.9737 - val_loss: 2.5823 - val_accuracy: 0.6073\n",
            "Epoch 44/75\n",
            "689/689 [==============================] - 42s 60ms/step - loss: 0.0822 - accuracy: 0.9697 - val_loss: 2.6256 - val_accuracy: 0.6083\n",
            "Epoch 45/75\n",
            "689/689 [==============================] - 42s 60ms/step - loss: 0.1182 - accuracy: 0.9582 - val_loss: 2.2471 - val_accuracy: 0.5975\n",
            "Epoch 46/75\n",
            "689/689 [==============================] - 47s 68ms/step - loss: 0.0743 - accuracy: 0.9733 - val_loss: 2.7014 - val_accuracy: 0.6087\n",
            "Epoch 47/75\n",
            "689/689 [==============================] - 42s 61ms/step - loss: 0.0688 - accuracy: 0.9760 - val_loss: 2.5628 - val_accuracy: 0.5982\n",
            "Epoch 48/75\n",
            "689/689 [==============================] - 44s 63ms/step - loss: 0.0657 - accuracy: 0.9768 - val_loss: 3.1865 - val_accuracy: 0.5967\n",
            "Epoch 49/75\n",
            "689/689 [==============================] - 42s 60ms/step - loss: 0.0649 - accuracy: 0.9780 - val_loss: 3.2665 - val_accuracy: 0.5964\n",
            "Epoch 50/75\n",
            "689/689 [==============================] - 42s 60ms/step - loss: 0.1555 - accuracy: 0.9433 - val_loss: 1.5835 - val_accuracy: 0.6131\n",
            "Epoch 51/75\n",
            "689/689 [==============================] - 42s 61ms/step - loss: 0.1030 - accuracy: 0.9606 - val_loss: 2.1363 - val_accuracy: 0.6007\n",
            "Epoch 52/75\n",
            "689/689 [==============================] - 43s 62ms/step - loss: 0.0730 - accuracy: 0.9739 - val_loss: 2.2685 - val_accuracy: 0.6113\n",
            "Epoch 53/75\n",
            "689/689 [==============================] - 42s 61ms/step - loss: 0.0593 - accuracy: 0.9785 - val_loss: 2.7621 - val_accuracy: 0.6033\n",
            "Epoch 54/75\n",
            "689/689 [==============================] - 50s 73ms/step - loss: 0.0521 - accuracy: 0.9809 - val_loss: 2.7659 - val_accuracy: 0.6113\n",
            "Epoch 55/75\n",
            "689/689 [==============================] - 42s 61ms/step - loss: 0.0762 - accuracy: 0.9731 - val_loss: 2.2654 - val_accuracy: 0.6007\n",
            "Epoch 56/75\n",
            "689/689 [==============================] - 50s 72ms/step - loss: 0.0573 - accuracy: 0.9795 - val_loss: 2.5213 - val_accuracy: 0.6054\n",
            "Epoch 57/75\n",
            "689/689 [==============================] - 52s 76ms/step - loss: 0.0459 - accuracy: 0.9836 - val_loss: 2.9388 - val_accuracy: 0.6069\n",
            "Epoch 58/75\n",
            "689/689 [==============================] - 45s 66ms/step - loss: 0.0505 - accuracy: 0.9824 - val_loss: 2.4442 - val_accuracy: 0.6152\n",
            "Epoch 59/75\n",
            "689/689 [==============================] - 42s 61ms/step - loss: 0.0398 - accuracy: 0.9868 - val_loss: 2.8866 - val_accuracy: 0.5946\n",
            "Epoch 60/75\n",
            "689/689 [==============================] - 42s 61ms/step - loss: 0.0387 - accuracy: 0.9865 - val_loss: 2.7753 - val_accuracy: 0.6174\n",
            "Epoch 61/75\n",
            "689/689 [==============================] - 44s 64ms/step - loss: 0.0369 - accuracy: 0.9872 - val_loss: 2.7498 - val_accuracy: 0.6156\n",
            "Epoch 62/75\n",
            "689/689 [==============================] - 43s 63ms/step - loss: 0.0705 - accuracy: 0.9757 - val_loss: 2.5992 - val_accuracy: 0.6116\n",
            "Epoch 63/75\n",
            "689/689 [==============================] - 45s 65ms/step - loss: 0.0408 - accuracy: 0.9854 - val_loss: 2.5617 - val_accuracy: 0.6065\n",
            "Epoch 64/75\n",
            "689/689 [==============================] - 44s 64ms/step - loss: 0.0296 - accuracy: 0.9897 - val_loss: 3.0551 - val_accuracy: 0.6232\n",
            "Epoch 65/75\n",
            "689/689 [==============================] - 46s 66ms/step - loss: 0.0327 - accuracy: 0.9892 - val_loss: 2.9612 - val_accuracy: 0.6149\n",
            "Epoch 66/75\n",
            "689/689 [==============================] - 43s 62ms/step - loss: 0.0433 - accuracy: 0.9844 - val_loss: 2.8879 - val_accuracy: 0.6276\n",
            "Epoch 67/75\n",
            "689/689 [==============================] - 44s 64ms/step - loss: 0.0375 - accuracy: 0.9872 - val_loss: 3.1115 - val_accuracy: 0.6113\n",
            "Epoch 68/75\n",
            "689/689 [==============================] - 42s 61ms/step - loss: 0.0445 - accuracy: 0.9841 - val_loss: 2.6969 - val_accuracy: 0.6142\n",
            "Epoch 69/75\n",
            "689/689 [==============================] - 44s 63ms/step - loss: 0.0351 - accuracy: 0.9880 - val_loss: 2.8396 - val_accuracy: 0.5996\n",
            "Epoch 70/75\n",
            "689/689 [==============================] - 43s 62ms/step - loss: 0.0300 - accuracy: 0.9894 - val_loss: 2.7071 - val_accuracy: 0.6152\n",
            "Epoch 71/75\n",
            "689/689 [==============================] - 42s 62ms/step - loss: 0.0308 - accuracy: 0.9887 - val_loss: 3.1040 - val_accuracy: 0.6044\n",
            "Epoch 72/75\n",
            "689/689 [==============================] - 56s 81ms/step - loss: 0.0373 - accuracy: 0.9878 - val_loss: 3.6769 - val_accuracy: 0.5920\n",
            "Epoch 73/75\n",
            "689/689 [==============================] - 42s 61ms/step - loss: 0.0634 - accuracy: 0.9775 - val_loss: 2.5163 - val_accuracy: 0.6087\n",
            "Epoch 74/75\n",
            "689/689 [==============================] - 42s 61ms/step - loss: 0.0253 - accuracy: 0.9913 - val_loss: 2.9043 - val_accuracy: 0.6145\n",
            "Epoch 75/75\n",
            "689/689 [==============================] - 50s 73ms/step - loss: 0.0288 - accuracy: 0.9897 - val_loss: 3.1690 - val_accuracy: 0.5993\n"
          ]
        }
      ],
      "source": [
        "history=lenet_model.fit(train_dataset,validation_data=val_dataset,epochs=75,verbose=1)"
      ]
    },
    {
      "cell_type": "code",
      "execution_count": 45,
      "metadata": {
        "id": "Xj9xyxktlAgF",
        "colab": {
          "base_uri": "https://localhost:8080/",
          "height": 472
        },
        "outputId": "b4c92c59-e2c4-4b9b-c14d-7c8c1eb4b096"
      },
      "outputs": [
        {
          "output_type": "display_data",
          "data": {
            "text/plain": [
              "<Figure size 640x480 with 1 Axes>"
            ],
            "image/png": "[encoded data removed]"
          },
          "metadata": {}
        }
      ],
      "source": [
        "plt.plot(history.history['loss'])\n",
        "plt.plot(history.history['val_loss'])\n",
        "plt.title('Model loss')\n",
        "plt.ylabel('loss')\n",
        "plt.xlabel('epoch')\n",
        "plt.legend(['train_loss', 'val_loss'])\n",
        "plt.show()"
      ]
    },
    {
      "cell_type": "markdown",
      "source": [
        "#MODEL EVALUATION AND TESTING\n",
        "\n",
        "\n"
      ],
      "metadata": {
        "id": "fqRmcMw9vpuy"
      }
    },
    {
      "cell_type": "code",
      "source": [
        "test_dataset = test_dataset.batch(1)"
      ],
      "metadata": {
        "id": "CqtKZj9Yv8tp"
      },
      "execution_count": 46,
      "outputs": []
    },
    {
      "cell_type": "code",
      "source": [
        "lenet_model.evaluate(test_dataset)"
      ],
      "metadata": {
        "colab": {
          "base_uri": "https://localhost:8080/"
        },
        "id": "WvonIDmsvuCE",
        "outputId": "4c23fd78-3c6d-4e55-d1ea-7ecc98e9d477"
      },
      "execution_count": 47,
      "outputs": [
        {
          "output_type": "stream",
          "name": "stdout",
          "text": [
            "2757/2757 [==============================] - 19s 3ms/step - loss: 3.4491 - accuracy: 0.5985\n"
          ]
        },
        {
          "output_type": "execute_result",
          "data": {
            "text/plain": [
              "[3.449068546295166, 0.5984765887260437]"
            ]
          },
          "metadata": {},
          "execution_count": 47
        }
      ]
    },
    {
      "cell_type": "code",
      "source": [
        "def parasite_or_not(x):\n",
        "  if(x<0.5):\n",
        "    return str('P')\n",
        "\n",
        "  else:\n",
        "    return str('U')"
      ],
      "metadata": {
        "id": "S_OPmes7wgyv"
      },
      "execution_count": 48,
      "outputs": []
    },
    {
      "cell_type": "code",
      "source": [
        "parasite_or_not(model.predict(test_dataset.take(1))[0][0])"
      ],
      "metadata": {
        "colab": {
          "base_uri": "https://localhost:8080/",
          "height": 53
        },
        "id": "0tU3wtMwwS0v",
        "outputId": "93f3dabb-7dec-464f-af44-52c81b15738d"
      },
      "execution_count": 49,
      "outputs": [
        {
          "output_type": "stream",
          "name": "stdout",
          "text": [
            "1/1 [==============================] - 11s 11s/step\n"
          ]
        },
        {
          "output_type": "execute_result",
          "data": {
            "text/plain": [
              "'U'"
            ],
            "application/vnd.google.colaboratory.intrinsic+json": {
              "type": "string"
            }
          },
          "metadata": {},
          "execution_count": 49
        }
      ]
    },
    {
      "cell_type": "code",
      "source": [
        "for i, (image,label) in enumerate(test_dataset.take(9)):\n",
        "\n",
        "  ax = plt.subplot(3,3,i+1)\n",
        "  plt.imshow(image[0])\n",
        "  plt.title(str(parasite_or_not(label.numpy()[0]))+ str(parasite_or_not(model.predict(image)[0][0])))\n",
        "  plt.axis('off')"
      ],
      "metadata": {
        "colab": {
          "base_uri": "https://localhost:8080/",
          "height": 589
        },
        "id": "w_cRvGuBw6Yf",
        "outputId": "0fe8af35-4db4-4e84-f83e-a80078ae96de"
      },
      "execution_count": null,
      "outputs": [
        {
          "output_type": "stream",
          "name": "stdout",
          "text": [
            "1/1 [==============================] - 0s 128ms/step\n",
            "1/1 [==============================] - 0s 18ms/step\n",
            "1/1 [==============================] - 0s 18ms/step\n",
            "1/1 [==============================] - 0s 17ms/step\n",
            "1/1 [==============================] - 0s 18ms/step\n",
            "1/1 [==============================] - 0s 17ms/step\n",
            "1/1 [==============================] - 0s 18ms/step\n",
            "1/1 [==============================] - 0s 17ms/step\n",
            "1/1 [==============================] - 0s 17ms/step\n"
          ]
        },
        {
          "output_type": "display_data",
          "data": {
            "text/plain": [
              "<Figure size 640x480 with 9 Axes>"
            ],
            "image/png": "[encoded data removed]"
          },
          "metadata": {}
        }
      ]
    },
    {
      "cell_type": "markdown",
      "source": [
        "# Model Saving"
      ],
      "metadata": {
        "id": "6xHiKXSr1lgG"
      }
    },
    {
      "cell_type": "code",
      "source": [
        "import pickle"
      ],
      "metadata": {
        "id": "SzGsHsb40ncd"
      },
      "execution_count": null,
      "outputs": []
    },
    {
      "cell_type": "code",
      "source": [
        "pickle.dump(model,open('model.pkl','wb'))"
      ],
      "metadata": {
        "id": "OWgQAsLj2bx6"
      },
      "execution_count": null,
      "outputs": []
    },
    {
      "cell_type": "code",
      "source": [
        "model_load = pickle.load(open('model.pkl','rb'))"
      ],
      "metadata": {
        "id": "aVVn-dHd2mMI"
      },
      "execution_count": null,
      "outputs": []
    },
    {
      "cell_type": "code",
      "source": [],
      "metadata": {
        "id": "loD_1e3p3F5h"
      },
      "execution_count": null,
      "outputs": []
    }
  ],
  "metadata": {
    "colab": {
      "provenance": [],
      "gpuType": "T4",
      "authorship_tag": "ABX9TyNNGDKDZfgivz2dgRCJRTqW",
      "include_colab_link": true
    },
    "kernelspec": {
      "display_name": "Python 3",
      "name": "python3"
    },
    "language_info": {
      "name": "python"
    },
    "accelerator": "GPU",
    "widgets": {
      "application/vnd.jupyter.widget-state+json": {
        "b02ab9c5f2ee4e3b877832f25360703f": {
          "model_module": "@jupyter-widgets/controls",
          "model_name": "HBoxModel",
          "model_module_version": "1.5.0",
          "state": {
            "_dom_classes": [],
            "_model_module": "@jupyter-widgets/controls",
            "_model_module_version": "1.5.0",
            "_model_name": "HBoxModel",
            "_view_count": null,
            "_view_module": "@jupyter-widgets/controls",
            "_view_module_version": "1.5.0",
            "_view_name": "HBoxView",
            "box_style": "",
            "children": [
              "IPY_MODEL_824b06f6b9554765a909f1c51c8a6c1e",
              "IPY_MODEL_6a6fce3ec8e14192bee5e56e1ca28c35",
              "IPY_MODEL_3ec88ec5864249ae90ac708912317ece"
            ],
            "layout": "IPY_MODEL_9322ce23a239483084c4532642a9510e"
          }
        },
        "824b06f6b9554765a909f1c51c8a6c1e": {
          "model_module": "@jupyter-widgets/controls",
          "model_name": "HTMLModel",
          "model_module_version": "1.5.0",
          "state": {
            "_dom_classes": [],
            "_model_module": "@jupyter-widgets/controls",
            "_model_module_version": "1.5.0",
            "_model_name": "HTMLModel",
            "_view_count": null,
            "_view_module": "@jupyter-widgets/controls",
            "_view_module_version": "1.5.0",
            "_view_name": "HTMLView",
            "description": "",
            "description_tooltip": null,
            "layout": "IPY_MODEL_8b3841b3a86b467e93a82538e491a646",
            "placeholder": "​",
            "style": "IPY_MODEL_372e5c186f6a4655b06fdcddd63b7b1f",
            "value": "Dl Completed...: 100%"
          }
        },
        "6a6fce3ec8e14192bee5e56e1ca28c35": {
          "model_module": "@jupyter-widgets/controls",
          "model_name": "FloatProgressModel",
          "model_module_version": "1.5.0",
          "state": {
            "_dom_classes": [],
            "_model_module": "@jupyter-widgets/controls",
            "_model_module_version": "1.5.0",
            "_model_name": "FloatProgressModel",
            "_view_count": null,
            "_view_module": "@jupyter-widgets/controls",
            "_view_module_version": "1.5.0",
            "_view_name": "ProgressView",
            "bar_style": "success",
            "description": "",
            "description_tooltip": null,
            "layout": "IPY_MODEL_e4a1a00feee849a9bd1f4d0c751394e1",
            "max": 1,
            "min": 0,
            "orientation": "horizontal",
            "style": "IPY_MODEL_9ee451c74dce471a8ebc412de6160dae",
            "value": 1
          }
        },
        "3ec88ec5864249ae90ac708912317ece": {
          "model_module": "@jupyter-widgets/controls",
          "model_name": "HTMLModel",
          "model_module_version": "1.5.0",
          "state": {
            "_dom_classes": [],
            "_model_module": "@jupyter-widgets/controls",
            "_model_module_version": "1.5.0",
            "_model_name": "HTMLModel",
            "_view_count": null,
            "_view_module": "@jupyter-widgets/controls",
            "_view_module_version": "1.5.0",
            "_view_name": "HTMLView",
            "description": "",
            "description_tooltip": null,
            "layout": "IPY_MODEL_4cda2159bd194eeb81c2ecb0fc9efbc9",
            "placeholder": "​",
            "style": "IPY_MODEL_597fa03c46ff4fa5b8e33ef93097dd98",
            "value": " 1/1 [01:36&lt;00:00,  5.89s/ url]"
          }
        },
        "9322ce23a239483084c4532642a9510e": {
          "model_module": "@jupyter-widgets/base",
          "model_name": "LayoutModel",
          "model_module_version": "1.2.0",
          "state": {
            "_model_module": "@jupyter-widgets/base",
            "_model_module_version": "1.2.0",
            "_model_name": "LayoutModel",
            "_view_count": null,
            "_view_module": "@jupyter-widgets/base",
            "_view_module_version": "1.2.0",
            "_view_name": "LayoutView",
            "align_content": null,
            "align_items": null,
            "align_self": null,
            "border": null,
            "bottom": null,
            "display": null,
            "flex": null,
            "flex_flow": null,
            "grid_area": null,
            "grid_auto_columns": null,
            "grid_auto_flow": null,
            "grid_auto_rows": null,
            "grid_column": null,
            "grid_gap": null,
            "grid_row": null,
            "grid_template_areas": null,
            "grid_template_columns": null,
            "grid_template_rows": null,
            "height": null,
            "justify_content": null,
            "justify_items": null,
            "left": null,
            "margin": null,
            "max_height": null,
            "max_width": null,
            "min_height": null,
            "min_width": null,
            "object_fit": null,
            "object_position": null,
            "order": null,
            "overflow": null,
            "overflow_x": null,
            "overflow_y": null,
            "padding": null,
            "right": null,
            "top": null,
            "visibility": null,
            "width": null
          }
        },
        "8b3841b3a86b467e93a82538e491a646": {
          "model_module": "@jupyter-widgets/base",
          "model_name": "LayoutModel",
          "model_module_version": "1.2.0",
          "state": {
            "_model_module": "@jupyter-widgets/base",
            "_model_module_version": "1.2.0",
            "_model_name": "LayoutModel",
            "_view_count": null,
            "_view_module": "@jupyter-widgets/base",
            "_view_module_version": "1.2.0",
            "_view_name": "LayoutView",
            "align_content": null,
            "align_items": null,
            "align_self": null,
            "border": null,
            "bottom": null,
            "display": null,
            "flex": null,
            "flex_flow": null,
            "grid_area": null,
            "grid_auto_columns": null,
            "grid_auto_flow": null,
            "grid_auto_rows": null,
            "grid_column": null,
            "grid_gap": null,
            "grid_row": null,
            "grid_template_areas": null,
            "grid_template_columns": null,
            "grid_template_rows": null,
            "height": null,
            "justify_content": null,
            "justify_items": null,
            "left": null,
            "margin": null,
            "max_height": null,
            "max_width": null,
            "min_height": null,
            "min_width": null,
            "object_fit": null,
            "object_position": null,
            "order": null,
            "overflow": null,
            "overflow_x": null,
            "overflow_y": null,
            "padding": null,
            "right": null,
            "top": null,
            "visibility": null,
            "width": null
          }
        },
        "372e5c186f6a4655b06fdcddd63b7b1f": {
          "model_module": "@jupyter-widgets/controls",
          "model_name": "DescriptionStyleModel",
          "model_module_version": "1.5.0",
          "state": {
            "_model_module": "@jupyter-widgets/controls",
            "_model_module_version": "1.5.0",
            "_model_name": "DescriptionStyleModel",
            "_view_count": null,
            "_view_module": "@jupyter-widgets/base",
            "_view_module_version": "1.2.0",
            "_view_name": "StyleView",
            "description_width": ""
          }
        },
        "e4a1a00feee849a9bd1f4d0c751394e1": {
          "model_module": "@jupyter-widgets/base",
          "model_name": "LayoutModel",
          "model_module_version": "1.2.0",
          "state": {
            "_model_module": "@jupyter-widgets/base",
            "_model_module_version": "1.2.0",
            "_model_name": "LayoutModel",
            "_view_count": null,
            "_view_module": "@jupyter-widgets/base",
            "_view_module_version": "1.2.0",
            "_view_name": "LayoutView",
            "align_content": null,
            "align_items": null,
            "align_self": null,
            "border": null,
            "bottom": null,
            "display": null,
            "flex": null,
            "flex_flow": null,
            "grid_area": null,
            "grid_auto_columns": null,
            "grid_auto_flow": null,
            "grid_auto_rows": null,
            "grid_column": null,
            "grid_gap": null,
            "grid_row": null,
            "grid_template_areas": null,
            "grid_template_columns": null,
            "grid_template_rows": null,
            "height": null,
            "justify_content": null,
            "justify_items": null,
            "left": null,
            "margin": null,
            "max_height": null,
            "max_width": null,
            "min_height": null,
            "min_width": null,
            "object_fit": null,
            "object_position": null,
            "order": null,
            "overflow": null,
            "overflow_x": null,
            "overflow_y": null,
            "padding": null,
            "right": null,
            "top": null,
            "visibility": null,
            "width": "20px"
          }
        },
        "9ee451c74dce471a8ebc412de6160dae": {
          "model_module": "@jupyter-widgets/controls",
          "model_name": "ProgressStyleModel",
          "model_module_version": "1.5.0",
          "state": {
            "_model_module": "@jupyter-widgets/controls",
            "_model_module_version": "1.5.0",
            "_model_name": "ProgressStyleModel",
            "_view_count": null,
            "_view_module": "@jupyter-widgets/base",
            "_view_module_version": "1.2.0",
            "_view_name": "StyleView",
            "bar_color": null,
            "description_width": ""
          }
        },
        "4cda2159bd194eeb81c2ecb0fc9efbc9": {
          "model_module": "@jupyter-widgets/base",
          "model_name": "LayoutModel",
          "model_module_version": "1.2.0",
          "state": {
            "_model_module": "@jupyter-widgets/base",
            "_model_module_version": "1.2.0",
            "_model_name": "LayoutModel",
            "_view_count": null,
            "_view_module": "@jupyter-widgets/base",
            "_view_module_version": "1.2.0",
            "_view_name": "LayoutView",
            "align_content": null,
            "align_items": null,
            "align_self": null,
            "border": null,
            "bottom": null,
            "display": null,
            "flex": null,
            "flex_flow": null,
            "grid_area": null,
            "grid_auto_columns": null,
            "grid_auto_flow": null,
            "grid_auto_rows": null,
            "grid_column": null,
            "grid_gap": null,
            "grid_row": null,
            "grid_template_areas": null,
            "grid_template_columns": null,
            "grid_template_rows": null,
            "height": null,
            "justify_content": null,
            "justify_items": null,
            "left": null,
            "margin": null,
            "max_height": null,
            "max_width": null,
            "min_height": null,
            "min_width": null,
            "object_fit": null,
            "object_position": null,
            "order": null,
            "overflow": null,
            "overflow_x": null,
            "overflow_y": null,
            "padding": null,
            "right": null,
            "top": null,
            "visibility": null,
            "width": null
          }
        },
        "597fa03c46ff4fa5b8e33ef93097dd98": {
          "model_module": "@jupyter-widgets/controls",
          "model_name": "DescriptionStyleModel",
          "model_module_version": "1.5.0",
          "state": {
            "_model_module": "@jupyter-widgets/controls",
            "_model_module_version": "1.5.0",
            "_model_name": "DescriptionStyleModel",
            "_view_count": null,
            "_view_module": "@jupyter-widgets/base",
            "_view_module_version": "1.2.0",
            "_view_name": "StyleView",
            "description_width": ""
          }
        },
        "f71b8bfdbd984a2eba5374d877fb5f72": {
          "model_module": "@jupyter-widgets/controls",
          "model_name": "HBoxModel",
          "model_module_version": "1.5.0",
          "state": {
            "_dom_classes": [],
            "_model_module": "@jupyter-widgets/controls",
            "_model_module_version": "1.5.0",
            "_model_name": "HBoxModel",
            "_view_count": null,
            "_view_module": "@jupyter-widgets/controls",
            "_view_module_version": "1.5.0",
            "_view_name": "HBoxView",
            "box_style": "",
            "children": [
              "IPY_MODEL_12a75345060148e3a0b8242c99fde59f",
              "IPY_MODEL_aa744cedb95e4ebd8008949460833097",
              "IPY_MODEL_a652f91d4b134d579b7015cecc963bbc"
            ],
            "layout": "IPY_MODEL_c9e47f5170024d69b5f14c77ec76d886"
          }
        },
        "12a75345060148e3a0b8242c99fde59f": {
          "model_module": "@jupyter-widgets/controls",
          "model_name": "HTMLModel",
          "model_module_version": "1.5.0",
          "state": {
            "_dom_classes": [],
            "_model_module": "@jupyter-widgets/controls",
            "_model_module_version": "1.5.0",
            "_model_name": "HTMLModel",
            "_view_count": null,
            "_view_module": "@jupyter-widgets/controls",
            "_view_module_version": "1.5.0",
            "_view_name": "HTMLView",
            "description": "",
            "description_tooltip": null,
            "layout": "IPY_MODEL_2e17900e839e4896b1b5dea6f1d1425c",
            "placeholder": "​",
            "style": "IPY_MODEL_5eebc79b279e40c6ad9c7321e80d05f6",
            "value": "Dl Size...: 100%"
          }
        },
        "aa744cedb95e4ebd8008949460833097": {
          "model_module": "@jupyter-widgets/controls",
          "model_name": "FloatProgressModel",
          "model_module_version": "1.5.0",
          "state": {
            "_dom_classes": [],
            "_model_module": "@jupyter-widgets/controls",
            "_model_module_version": "1.5.0",
            "_model_name": "FloatProgressModel",
            "_view_count": null,
            "_view_module": "@jupyter-widgets/controls",
            "_view_module_version": "1.5.0",
            "_view_name": "ProgressView",
            "bar_style": "success",
            "description": "",
            "description_tooltip": null,
            "layout": "IPY_MODEL_35ab5df024ae4450a44bc2d1c89235ea",
            "max": 1,
            "min": 0,
            "orientation": "horizontal",
            "style": "IPY_MODEL_65fc14697f684ce7afa41dbecab9b3f0",
            "value": 1
          }
        },
        "a652f91d4b134d579b7015cecc963bbc": {
          "model_module": "@jupyter-widgets/controls",
          "model_name": "HTMLModel",
          "model_module_version": "1.5.0",
          "state": {
            "_dom_classes": [],
            "_model_module": "@jupyter-widgets/controls",
            "_model_module_version": "1.5.0",
            "_model_name": "HTMLModel",
            "_view_count": null,
            "_view_module": "@jupyter-widgets/controls",
            "_view_module_version": "1.5.0",
            "_view_name": "HTMLView",
            "description": "",
            "description_tooltip": null,
            "layout": "IPY_MODEL_28a048183c2f4f9498aae0a88aebcae5",
            "placeholder": "​",
            "style": "IPY_MODEL_8dc9ddc2b6194446a0efae2fb62183e1",
            "value": " 337/337 [01:35&lt;00:00, 57.57 MiB/s]"
          }
        },
        "c9e47f5170024d69b5f14c77ec76d886": {
          "model_module": "@jupyter-widgets/base",
          "model_name": "LayoutModel",
          "model_module_version": "1.2.0",
          "state": {
            "_model_module": "@jupyter-widgets/base",
            "_model_module_version": "1.2.0",
            "_model_name": "LayoutModel",
            "_view_count": null,
            "_view_module": "@jupyter-widgets/base",
            "_view_module_version": "1.2.0",
            "_view_name": "LayoutView",
            "align_content": null,
            "align_items": null,
            "align_self": null,
            "border": null,
            "bottom": null,
            "display": null,
            "flex": null,
            "flex_flow": null,
            "grid_area": null,
            "grid_auto_columns": null,
            "grid_auto_flow": null,
            "grid_auto_rows": null,
            "grid_column": null,
            "grid_gap": null,
            "grid_row": null,
            "grid_template_areas": null,
            "grid_template_columns": null,
            "grid_template_rows": null,
            "height": null,
            "justify_content": null,
            "justify_items": null,
            "left": null,
            "margin": null,
            "max_height": null,
            "max_width": null,
            "min_height": null,
            "min_width": null,
            "object_fit": null,
            "object_position": null,
            "order": null,
            "overflow": null,
            "overflow_x": null,
            "overflow_y": null,
            "padding": null,
            "right": null,
            "top": null,
            "visibility": null,
            "width": null
          }
        },
        "2e17900e839e4896b1b5dea6f1d1425c": {
          "model_module": "@jupyter-widgets/base",
          "model_name": "LayoutModel",
          "model_module_version": "1.2.0",
          "state": {
            "_model_module": "@jupyter-widgets/base",
            "_model_module_version": "1.2.0",
            "_model_name": "LayoutModel",
            "_view_count": null,
            "_view_module": "@jupyter-widgets/base",
            "_view_module_version": "1.2.0",
            "_view_name": "LayoutView",
            "align_content": null,
            "align_items": null,
            "align_self": null,
            "border": null,
            "bottom": null,
            "display": null,
            "flex": null,
            "flex_flow": null,
            "grid_area": null,
            "grid_auto_columns": null,
            "grid_auto_flow": null,
            "grid_auto_rows": null,
            "grid_column": null,
            "grid_gap": null,
            "grid_row": null,
            "grid_template_areas": null,
            "grid_template_columns": null,
            "grid_template_rows": null,
            "height": null,
            "justify_content": null,
            "justify_items": null,
            "left": null,
            "margin": null,
            "max_height": null,
            "max_width": null,
            "min_height": null,
            "min_width": null,
            "object_fit": null,
            "object_position": null,
            "order": null,
            "overflow": null,
            "overflow_x": null,
            "overflow_y": null,
            "padding": null,
            "right": null,
            "top": null,
            "visibility": null,
            "width": null
          }
        },
        "5eebc79b279e40c6ad9c7321e80d05f6": {
          "model_module": "@jupyter-widgets/controls",
          "model_name": "DescriptionStyleModel",
          "model_module_version": "1.5.0",
          "state": {
            "_model_module": "@jupyter-widgets/controls",
            "_model_module_version": "1.5.0",
            "_model_name": "DescriptionStyleModel",
            "_view_count": null,
            "_view_module": "@jupyter-widgets/base",
            "_view_module_version": "1.2.0",
            "_view_name": "StyleView",
            "description_width": ""
          }
        },
        "35ab5df024ae4450a44bc2d1c89235ea": {
          "model_module": "@jupyter-widgets/base",
          "model_name": "LayoutModel",
          "model_module_version": "1.2.0",
          "state": {
            "_model_module": "@jupyter-widgets/base",
            "_model_module_version": "1.2.0",
            "_model_name": "LayoutModel",
            "_view_count": null,
            "_view_module": "@jupyter-widgets/base",
            "_view_module_version": "1.2.0",
            "_view_name": "LayoutView",
            "align_content": null,
            "align_items": null,
            "align_self": null,
            "border": null,
            "bottom": null,
            "display": null,
            "flex": null,
            "flex_flow": null,
            "grid_area": null,
            "grid_auto_columns": null,
            "grid_auto_flow": null,
            "grid_auto_rows": null,
            "grid_column": null,
            "grid_gap": null,
            "grid_row": null,
            "grid_template_areas": null,
            "grid_template_columns": null,
            "grid_template_rows": null,
            "height": null,
            "justify_content": null,
            "justify_items": null,
            "left": null,
            "margin": null,
            "max_height": null,
            "max_width": null,
            "min_height": null,
            "min_width": null,
            "object_fit": null,
            "object_position": null,
            "order": null,
            "overflow": null,
            "overflow_x": null,
            "overflow_y": null,
            "padding": null,
            "right": null,
            "top": null,
            "visibility": null,
            "width": "20px"
          }
        },
        "65fc14697f684ce7afa41dbecab9b3f0": {
          "model_module": "@jupyter-widgets/controls",
          "model_name": "ProgressStyleModel",
          "model_module_version": "1.5.0",
          "state": {
            "_model_module": "@jupyter-widgets/controls",
            "_model_module_version": "1.5.0",
            "_model_name": "ProgressStyleModel",
            "_view_count": null,
            "_view_module": "@jupyter-widgets/base",
            "_view_module_version": "1.2.0",
            "_view_name": "StyleView",
            "bar_color": null,
            "description_width": ""
          }
        },
        "28a048183c2f4f9498aae0a88aebcae5": {
          "model_module": "@jupyter-widgets/base",
          "model_name": "LayoutModel",
          "model_module_version": "1.2.0",
          "state": {
            "_model_module": "@jupyter-widgets/base",
            "_model_module_version": "1.2.0",
            "_model_name": "LayoutModel",
            "_view_count": null,
            "_view_module": "@jupyter-widgets/base",
            "_view_module_version": "1.2.0",
            "_view_name": "LayoutView",
            "align_content": null,
            "align_items": null,
            "align_self": null,
            "border": null,
            "bottom": null,
            "display": null,
            "flex": null,
            "flex_flow": null,
            "grid_area": null,
            "grid_auto_columns": null,
            "grid_auto_flow": null,
            "grid_auto_rows": null,
            "grid_column": null,
            "grid_gap": null,
            "grid_row": null,
            "grid_template_areas": null,
            "grid_template_columns": null,
            "grid_template_rows": null,
            "height": null,
            "justify_content": null,
            "justify_items": null,
            "left": null,
            "margin": null,
            "max_height": null,
            "max_width": null,
            "min_height": null,
            "min_width": null,
            "object_fit": null,
            "object_position": null,
            "order": null,
            "overflow": null,
            "overflow_x": null,
            "overflow_y": null,
            "padding": null,
            "right": null,
            "top": null,
            "visibility": null,
            "width": null
          }
        },
        "8dc9ddc2b6194446a0efae2fb62183e1": {
          "model_module": "@jupyter-widgets/controls",
          "model_name": "DescriptionStyleModel",
          "model_module_version": "1.5.0",
          "state": {
            "_model_module": "@jupyter-widgets/controls",
            "_model_module_version": "1.5.0",
            "_model_name": "DescriptionStyleModel",
            "_view_count": null,
            "_view_module": "@jupyter-widgets/base",
            "_view_module_version": "1.2.0",
            "_view_name": "StyleView",
            "description_width": ""
          }
        },
        "1fe01bdc2e1a4e28a888a771686a739a": {
          "model_module": "@jupyter-widgets/controls",
          "model_name": "HBoxModel",
          "model_module_version": "1.5.0",
          "state": {
            "_dom_classes": [],
            "_model_module": "@jupyter-widgets/controls",
            "_model_module_version": "1.5.0",
            "_model_name": "HBoxModel",
            "_view_count": null,
            "_view_module": "@jupyter-widgets/controls",
            "_view_module_version": "1.5.0",
            "_view_name": "HBoxView",
            "box_style": "",
            "children": [
              "IPY_MODEL_6b959cff10964e15912ef42a97eb0257",
              "IPY_MODEL_5beb00f2ed5d423bbb4165a93ba3dda8",
              "IPY_MODEL_1aa10cec793e40c7b984df418da6761e"
            ],
            "layout": "IPY_MODEL_bfe0659e7c5a4cef9e35f169fd94e366"
          }
        },
        "6b959cff10964e15912ef42a97eb0257": {
          "model_module": "@jupyter-widgets/controls",
          "model_name": "HTMLModel",
          "model_module_version": "1.5.0",
          "state": {
            "_dom_classes": [],
            "_model_module": "@jupyter-widgets/controls",
            "_model_module_version": "1.5.0",
            "_model_name": "HTMLModel",
            "_view_count": null,
            "_view_module": "@jupyter-widgets/controls",
            "_view_module_version": "1.5.0",
            "_view_name": "HTMLView",
            "description": "",
            "description_tooltip": null,
            "layout": "IPY_MODEL_7c05af8567cc4e728b4790c441d3d17a",
            "placeholder": "​",
            "style": "IPY_MODEL_9e88de2360a547a5a3ce0cb3ddc88fb4",
            "value": "Extraction completed...: 100%"
          }
        },
        "5beb00f2ed5d423bbb4165a93ba3dda8": {
          "model_module": "@jupyter-widgets/controls",
          "model_name": "FloatProgressModel",
          "model_module_version": "1.5.0",
          "state": {
            "_dom_classes": [],
            "_model_module": "@jupyter-widgets/controls",
            "_model_module_version": "1.5.0",
            "_model_name": "FloatProgressModel",
            "_view_count": null,
            "_view_module": "@jupyter-widgets/controls",
            "_view_module_version": "1.5.0",
            "_view_name": "ProgressView",
            "bar_style": "success",
            "description": "",
            "description_tooltip": null,
            "layout": "IPY_MODEL_dca8ec198a4d4c6681ae2236bebf6609",
            "max": 1,
            "min": 0,
            "orientation": "horizontal",
            "style": "IPY_MODEL_0a9d630054494e17b9a670319b600a4b",
            "value": 1
          }
        },
        "1aa10cec793e40c7b984df418da6761e": {
          "model_module": "@jupyter-widgets/controls",
          "model_name": "HTMLModel",
          "model_module_version": "1.5.0",
          "state": {
            "_dom_classes": [],
            "_model_module": "@jupyter-widgets/controls",
            "_model_module_version": "1.5.0",
            "_model_name": "HTMLModel",
            "_view_count": null,
            "_view_module": "@jupyter-widgets/controls",
            "_view_module_version": "1.5.0",
            "_view_name": "HTMLView",
            "description": "",
            "description_tooltip": null,
            "layout": "IPY_MODEL_db9c6d9d76e24d999c24d03b75cf6677",
            "placeholder": "​",
            "style": "IPY_MODEL_a3aac8fef1c24e8a83f3b4886524befc",
            "value": " 27560/27560 [01:35&lt;00:00, 1003.99 file/s]"
          }
        },
        "bfe0659e7c5a4cef9e35f169fd94e366": {
          "model_module": "@jupyter-widgets/base",
          "model_name": "LayoutModel",
          "model_module_version": "1.2.0",
          "state": {
            "_model_module": "@jupyter-widgets/base",
            "_model_module_version": "1.2.0",
            "_model_name": "LayoutModel",
            "_view_count": null,
            "_view_module": "@jupyter-widgets/base",
            "_view_module_version": "1.2.0",
            "_view_name": "LayoutView",
            "align_content": null,
            "align_items": null,
            "align_self": null,
            "border": null,
            "bottom": null,
            "display": null,
            "flex": null,
            "flex_flow": null,
            "grid_area": null,
            "grid_auto_columns": null,
            "grid_auto_flow": null,
            "grid_auto_rows": null,
            "grid_column": null,
            "grid_gap": null,
            "grid_row": null,
            "grid_template_areas": null,
            "grid_template_columns": null,
            "grid_template_rows": null,
            "height": null,
            "justify_content": null,
            "justify_items": null,
            "left": null,
            "margin": null,
            "max_height": null,
            "max_width": null,
            "min_height": null,
            "min_width": null,
            "object_fit": null,
            "object_position": null,
            "order": null,
            "overflow": null,
            "overflow_x": null,
            "overflow_y": null,
            "padding": null,
            "right": null,
            "top": null,
            "visibility": null,
            "width": null
          }
        },
        "7c05af8567cc4e728b4790c441d3d17a": {
          "model_module": "@jupyter-widgets/base",
          "model_name": "LayoutModel",
          "model_module_version": "1.2.0",
          "state": {
            "_model_module": "@jupyter-widgets/base",
            "_model_module_version": "1.2.0",
            "_model_name": "LayoutModel",
            "_view_count": null,
            "_view_module": "@jupyter-widgets/base",
            "_view_module_version": "1.2.0",
            "_view_name": "LayoutView",
            "align_content": null,
            "align_items": null,
            "align_self": null,
            "border": null,
            "bottom": null,
            "display": null,
            "flex": null,
            "flex_flow": null,
            "grid_area": null,
            "grid_auto_columns": null,
            "grid_auto_flow": null,
            "grid_auto_rows": null,
            "grid_column": null,
            "grid_gap": null,
            "grid_row": null,
            "grid_template_areas": null,
            "grid_template_columns": null,
            "grid_template_rows": null,
            "height": null,
            "justify_content": null,
            "justify_items": null,
            "left": null,
            "margin": null,
            "max_height": null,
            "max_width": null,
            "min_height": null,
            "min_width": null,
            "object_fit": null,
            "object_position": null,
            "order": null,
            "overflow": null,
            "overflow_x": null,
            "overflow_y": null,
            "padding": null,
            "right": null,
            "top": null,
            "visibility": null,
            "width": null
          }
        },
        "9e88de2360a547a5a3ce0cb3ddc88fb4": {
          "model_module": "@jupyter-widgets/controls",
          "model_name": "DescriptionStyleModel",
          "model_module_version": "1.5.0",
          "state": {
            "_model_module": "@jupyter-widgets/controls",
            "_model_module_version": "1.5.0",
            "_model_name": "DescriptionStyleModel",
            "_view_count": null,
            "_view_module": "@jupyter-widgets/base",
            "_view_module_version": "1.2.0",
            "_view_name": "StyleView",
            "description_width": ""
          }
        },
        "dca8ec198a4d4c6681ae2236bebf6609": {
          "model_module": "@jupyter-widgets/base",
          "model_name": "LayoutModel",
          "model_module_version": "1.2.0",
          "state": {
            "_model_module": "@jupyter-widgets/base",
            "_model_module_version": "1.2.0",
            "_model_name": "LayoutModel",
            "_view_count": null,
            "_view_module": "@jupyter-widgets/base",
            "_view_module_version": "1.2.0",
            "_view_name": "LayoutView",
            "align_content": null,
            "align_items": null,
            "align_self": null,
            "border": null,
            "bottom": null,
            "display": null,
            "flex": null,
            "flex_flow": null,
            "grid_area": null,
            "grid_auto_columns": null,
            "grid_auto_flow": null,
            "grid_auto_rows": null,
            "grid_column": null,
            "grid_gap": null,
            "grid_row": null,
            "grid_template_areas": null,
            "grid_template_columns": null,
            "grid_template_rows": null,
            "height": null,
            "justify_content": null,
            "justify_items": null,
            "left": null,
            "margin": null,
            "max_height": null,
            "max_width": null,
            "min_height": null,
            "min_width": null,
            "object_fit": null,
            "object_position": null,
            "order": null,
            "overflow": null,
            "overflow_x": null,
            "overflow_y": null,
            "padding": null,
            "right": null,
            "top": null,
            "visibility": null,
            "width": "20px"
          }
        },
        "0a9d630054494e17b9a670319b600a4b": {
          "model_module": "@jupyter-widgets/controls",
          "model_name": "ProgressStyleModel",
          "model_module_version": "1.5.0",
          "state": {
            "_model_module": "@jupyter-widgets/controls",
            "_model_module_version": "1.5.0",
            "_model_name": "ProgressStyleModel",
            "_view_count": null,
            "_view_module": "@jupyter-widgets/base",
            "_view_module_version": "1.2.0",
            "_view_name": "StyleView",
            "bar_color": null,
            "description_width": ""
          }
        },
        "db9c6d9d76e24d999c24d03b75cf6677": {
          "model_module": "@jupyter-widgets/base",
          "model_name": "LayoutModel",
          "model_module_version": "1.2.0",
          "state": {
            "_model_module": "@jupyter-widgets/base",
            "_model_module_version": "1.2.0",
            "_model_name": "LayoutModel",
            "_view_count": null,
            "_view_module": "@jupyter-widgets/base",
            "_view_module_version": "1.2.0",
            "_view_name": "LayoutView",
            "align_content": null,
            "align_items": null,
            "align_self": null,
            "border": null,
            "bottom": null,
            "display": null,
            "flex": null,
            "flex_flow": null,
            "grid_area": null,
            "grid_auto_columns": null,
            "grid_auto_flow": null,
            "grid_auto_rows": null,
            "grid_column": null,
            "grid_gap": null,
            "grid_row": null,
            "grid_template_areas": null,
            "grid_template_columns": null,
            "grid_template_rows": null,
            "height": null,
            "justify_content": null,
            "justify_items": null,
            "left": null,
            "margin": null,
            "max_height": null,
            "max_width": null,
            "min_height": null,
            "min_width": null,
            "object_fit": null,
            "object_position": null,
            "order": null,
            "overflow": null,
            "overflow_x": null,
            "overflow_y": null,
            "padding": null,
            "right": null,
            "top": null,
            "visibility": null,
            "width": null
          }
        },
        "a3aac8fef1c24e8a83f3b4886524befc": {
          "model_module": "@jupyter-widgets/controls",
          "model_name": "DescriptionStyleModel",
          "model_module_version": "1.5.0",
          "state": {
            "_model_module": "@jupyter-widgets/controls",
            "_model_module_version": "1.5.0",
            "_model_name": "DescriptionStyleModel",
            "_view_count": null,
            "_view_module": "@jupyter-widgets/base",
            "_view_module_version": "1.2.0",
            "_view_name": "StyleView",
            "description_width": ""
          }
        }
      }
    }
  },
  "nbformat": 4,
  "nbformat_minor": 0
}